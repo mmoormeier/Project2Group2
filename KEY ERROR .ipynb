{
 "cells": [
  {
   "cell_type": "code",
   "execution_count": 4,
   "metadata": {},
   "outputs": [
    {
     "name": "stdout",
     "output_type": "stream",
     "text": [
      "Get age for: Kevin\n",
      "Kevin is 33 years old.\n"
     ]
    }
   ],
   "source": [
    "ages = {'Jim': 30, 'Pam': 28, 'Kevin': 33}\n",
    "person = input('Get age for: ')\n",
    "print(f'{person} is {ages[person]} years old.')"
   ]
  },
  {
   "cell_type": "code",
   "execution_count": 5,
   "metadata": {},
   "outputs": [
    {
     "name": "stdout",
     "output_type": "stream",
     "text": [
      "Get age for: Pam\n",
      "Pam is 28 years old.\n"
     ]
    }
   ],
   "source": [
    "ages = {'Jim': 30, 'Pam': 28, 'Kevin': 33}\n",
    "person = input('Get age for: ')\n",
    "print(f'{person} is {ages[person]} years old.')"
   ]
  },
  {
   "cell_type": "code",
   "execution_count": null,
   "metadata": {},
   "outputs": [],
   "source": [
    "ages = {'Jim': 30, 'Pam': 28, 'Kevin': 33}\n",
    "person = input('Get age for: ')\n",
    "print(f'{person} is {ages[person]} years old.')"
   ]
  },
  {
   "cell_type": "code",
   "execution_count": null,
   "metadata": {},
   "outputs": [],
   "source": []
  }
 ],
 "metadata": {
  "kernelspec": {
   "display_name": "Python 3",
   "language": "python",
   "name": "python3"
  },
  "language_info": {
   "codemirror_mode": {
    "name": "ipython",
    "version": 3
   },
   "file_extension": ".py",
   "mimetype": "text/x-python",
   "name": "python",
   "nbconvert_exporter": "python",
   "pygments_lexer": "ipython3",
   "version": "3.7.6"
  }
 },
 "nbformat": 4,
 "nbformat_minor": 4
}
