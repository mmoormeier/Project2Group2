{
 "cells": [
  {
   "cell_type": "code",
   "execution_count": 1,
   "metadata": {},
   "outputs": [],
   "source": [
    "# Python program to find current  \n",
    "# weather details of any city \n",
    "# using openweathermap api \n",
    "  \n",
    "# import required modules \n",
    "import requests, json \n",
    "  "
   ]
  },
  {
   "cell_type": "code",
   "execution_count": 2,
   "metadata": {},
   "outputs": [],
   "source": [
    "# Enter your API key here \n",
    "api_key = \"3a9fa2731241e7ab03bbf05564b12ba4\""
   ]
  },
  {
   "cell_type": "code",
   "execution_count": 3,
   "metadata": {},
   "outputs": [],
   "source": [
    "# base_url variable to store url \n",
    "base_url = \"http://api.openweathermap.org/data/2.5/weather?\""
   ]
  },
  {
   "cell_type": "code",
   "execution_count": null,
   "metadata": {},
   "outputs": [],
   "source": [
    "# Give city name \n",
    "city_name = input(\"Enter city name : \") "
   ]
  },
  {
   "cell_type": "code",
   "execution_count": null,
   "metadata": {},
   "outputs": [],
   "source": [
    "# complete_url variable to store complete url address \n",
    "#complete_url = base_url + \"appid=\" + api_key + \"&q=\" + city_name \n",
    "#url= \"https://api.openweathermap.org/data/2.5/weather?zip=44129,us&appid=3a9fa2731241e7ab03bbf05564b12ba4&units=metric\"\n",
    "\n",
    "complete_url=\"https://api.openweathermap.org/data/2.5/weather?appid=3a9fa2731241e7ab03bbf05564b12ba4\"&q=Cleveland,us \n"
   ]
  },
  {
   "cell_type": "code",
   "execution_count": null,
   "metadata": {},
   "outputs": [],
   "source": [
    "# get method of requests module \n",
    "# return response object \n",
    "response = requests.get(complete_url) "
   ]
  },
  {
   "cell_type": "code",
   "execution_count": null,
   "metadata": {},
   "outputs": [],
   "source": [
    "# json method of response object  \n",
    "# convert json format data into python format data \n",
    "x = response.json() "
   ]
  },
  {
   "cell_type": "code",
   "execution_count": null,
   "metadata": {},
   "outputs": [],
   "source": [
    "# x contains list of nested dictionaries, Check the value of \"cod\" key is equal to \"404\", means city is found otherwise, \n",
    "# city is not found \n",
    "if x[\"cod\"] != \"404\": "
   ]
  },
  {
   "cell_type": "code",
   "execution_count": null,
   "metadata": {},
   "outputs": [],
   "source": [
    "# store the value of \"main\" \n",
    "    # key in variable y \n",
    "    y = x[\"main\"] "
   ]
  },
  {
   "cell_type": "code",
   "execution_count": null,
   "metadata": {},
   "outputs": [],
   "source": [
    "# store the value corresponding to the \"temp\" key of y \n",
    "    current_temperature = y[\"temp\"] \n",
    "  "
   ]
  },
  {
   "cell_type": "code",
   "execution_count": null,
   "metadata": {},
   "outputs": [],
   "source": [
    "# store the value corresponding \n",
    "    # to the \"pressure\" key of y \n",
    "    current_pressure = y[\"pressure\"] "
   ]
  },
  {
   "cell_type": "code",
   "execution_count": null,
   "metadata": {},
   "outputs": [],
   "source": [
    " # store the value corresponding \n",
    "    # to the \"humidity\" key of y \n",
    "    current_humidiy = y[\"humidity\"] "
   ]
  },
  {
   "cell_type": "code",
   "execution_count": null,
   "metadata": {},
   "outputs": [],
   "source": [
    "# store the value of \"weather\" \n",
    "    # key in variable z \n",
    "    z = x[\"weather\"] "
   ]
  },
  {
   "cell_type": "code",
   "execution_count": null,
   "metadata": {},
   "outputs": [],
   "source": [
    "# store the value corresponding  to the \"description\" key at  the 0th index of z \n",
    "    weather_description = z[0][\"description\"] "
   ]
  },
  {
   "cell_type": "code",
   "execution_count": null,
   "metadata": {},
   "outputs": [],
   "source": [
    "# print following values \n",
    "    print(\" Temperature (in kelvin unit) = \" +\n",
    "                    str(current_temperature) + \n",
    "          \"\\n atmospheric pressure (in hPa unit) = \" +\n",
    "                    str(current_pressure) +\n",
    "          \"\\n humidity (in percentage) = \" +\n",
    "                    str(current_humidiy) +\n",
    "          \"\\n description = \" +\n",
    "                    str(weather_description)) "
   ]
  },
  {
   "cell_type": "code",
   "execution_count": null,
   "metadata": {},
   "outputs": [],
   "source": [
    "else: \n",
    "    print(\" City Not Found \") "
   ]
  },
  {
   "cell_type": "code",
   "execution_count": null,
   "metadata": {},
   "outputs": [],
   "source": []
  }
 ],
 "metadata": {
  "kernelspec": {
   "display_name": "Python 3",
   "language": "python",
   "name": "python3"
  },
  "language_info": {
   "codemirror_mode": {
    "name": "ipython",
    "version": 3
   },
   "file_extension": ".py",
   "mimetype": "text/x-python",
   "name": "python",
   "nbconvert_exporter": "python",
   "pygments_lexer": "ipython3",
   "version": "3.7.7"
  }
 },
 "nbformat": 4,
 "nbformat_minor": 4
}
