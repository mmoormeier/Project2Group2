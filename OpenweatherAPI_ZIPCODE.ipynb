{
 "cells": [
  {
   "cell_type": "code",
   "execution_count": 1,
   "metadata": {},
   "outputs": [],
   "source": [
    "# Dependencies and Setup\n",
    "import matplotlib.pyplot as plt\n",
    "import json\n",
    "import pandas as pd\n",
    "import numpy as np\n",
    "import time\n",
    "from scipy.stats import linregress\n",
    "from datetime import datetime\n",
    "import re\n",
    "import gmaps\n",
    "import os\n",
    "import configparser\n",
    "import requests\n",
    "import sys"
   ]
  },
  {
   "cell_type": "code",
   "execution_count": 2,
   "metadata": {},
   "outputs": [],
   "source": [
    "api_key = \"3a9fa2731241e7ab03bbf05564b12ba4\""
   ]
  },
  {
   "cell_type": "code",
   "execution_count": 3,
   "metadata": {},
   "outputs": [],
   "source": [
    "url= \"https://api.openweathermap.org/data/2.5/weather?zip=44129,us&appid=3a9fa2731241e7ab03bbf05564b12ba4&units=metric\""
   ]
  },
  {
   "cell_type": "code",
   "execution_count": 4,
   "metadata": {},
   "outputs": [
    {
     "name": "stdout",
     "output_type": "stream",
     "text": [
      "{'coord': {'lon': -81.74, 'lat': 41.39}, 'weather': [{'id': 800, 'main': 'Clear', 'description': 'clear sky', 'icon': '01n'}], 'base': 'stations', 'main': {'temp': 15.42, 'feels_like': 15.1, 'temp_min': 13.33, 'temp_max': 17, 'pressure': 1022, 'humidity': 82}, 'visibility': 10000, 'wind': {'speed': 1.5, 'deg': 170}, 'clouds': {'all': 1}, 'dt': 1596862214, 'sys': {'type': 1, 'id': 3646, 'country': 'US', 'sunrise': 1596882568, 'sunset': 1596933340}, 'timezone': -14400, 'id': 0, 'name': 'Cleveland', 'cod': 200}\n"
     ]
    }
   ],
   "source": [
    "response = requests.get(url)\n",
    "data = json.loads(response.text)\n",
    "print(data)"
   ]
  },
  {
   "cell_type": "code",
   "execution_count": null,
   "metadata": {},
   "outputs": [],
   "source": []
  }
 ],
 "metadata": {
  "kernelspec": {
   "display_name": "Python 3",
   "language": "python",
   "name": "python3"
  },
  "language_info": {
   "codemirror_mode": {
    "name": "ipython",
    "version": 3
   },
   "file_extension": ".py",
   "mimetype": "text/x-python",
   "name": "python",
   "nbconvert_exporter": "python",
   "pygments_lexer": "ipython3",
   "version": "3.7.6"
  }
 },
 "nbformat": 4,
 "nbformat_minor": 4
}
