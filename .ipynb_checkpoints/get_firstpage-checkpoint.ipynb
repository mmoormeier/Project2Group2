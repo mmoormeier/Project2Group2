{
 "cells": [
  {
   "cell_type": "code",
   "execution_count": 1,
   "metadata": {},
   "outputs": [],
   "source": [
    "from splinter import Browser\n",
    "from bs4 import BeautifulSoup\n",
    "from time import sleep \n",
    "import pandas as pd"
   ]
  },
  {
   "cell_type": "code",
   "execution_count": 2,
   "metadata": {},
   "outputs": [],
   "source": [
    "executable_path = {'executable_path': 'chromedriver.exe'}\n",
    "browser = Browser('chrome', **executable_path, headless=False)\n"
   ]
  },
  {
   "cell_type": "code",
   "execution_count": 3,
   "metadata": {},
   "outputs": [
    {
     "name": "stdout",
     "output_type": "stream",
     "text": [
      "Empty DataFrame\n",
      "Columns: [address, price, info, city, state]\n",
      "Index: []\n"
     ]
    }
   ],
   "source": [
    "item_df = pd.DataFrame(columns = [\"address\", \"price\", 'info', 'city', 'state'])\n",
    "print(item_df)"
   ]
  },
  {
   "cell_type": "code",
   "execution_count": 4,
   "metadata": {},
   "outputs": [
    {
     "name": "stdout",
     "output_type": "stream",
     "text": [
      "https://www.zillow.com/homes/New-York,-NY_rb/\n",
      "https://www.zillow.com/homes/Chicago,-IL_rb/\n",
      "https://www.zillow.com/homes/San-Francisco,-CA_rb/\n",
      "https://www.zillow.com/homes/Austin,-TX_rb/\n",
      "https://www.zillow.com/homes/Los-Angeles,-CA_rb/\n",
      "https://www.zillow.com/homes/Charlotte,-NC_rb/\n",
      "https://www.zillow.com/homes/Houston,-TX_rb/\n",
      "https://www.zillow.com/homes/Dallas,-TX_rb/\n",
      "https://www.zillow.com/homes/San-Diego,-CA_rb/\n",
      "https://www.zillow.com/homes/Philadelphia,-PA_rb/\n",
      "https://www.zillow.com/homes/Denver,-CO_rb/\n",
      "https://www.zillow.com/homes/San-Antonio,-TX_rb/\n",
      "https://www.zillow.com/homes/San-Jose,-CA_rb/\n",
      "https://www.zillow.com/homes/Phoenix,-AZ_rb/\n",
      "https://www.zillow.com/homes/Jersey-City,-NJ_rb/\n",
      "https://www.zillow.com/homes/Tempe,-AZ_rb/\n",
      "https://www.zillow.com/homes/Seattle,-WA_rb/\n",
      "https://www.zillow.com/homes/Columbus,-OH_rb/\n",
      "https://www.zillow.com/homes/Irving,-TX_rb/\n",
      "https://www.zillow.com/homes/Plano,-TX_rb/\n",
      "https://www.zillow.com/homes/Salt-Lake-City,-UT_rb/\n",
      "https://www.zillow.com/homes/Santa-Clara,-CA_rb/\n",
      "https://www.zillow.com/homes/El-Segundo,-CA_rb/\n",
      "https://www.zillow.com/homes/Jacksonville,-FL_rb/\n",
      "https://www.zillow.com/homes/Norfolk,-VA_rb/\n",
      "https://www.zillow.com/homes/San-Mateo,-CA_rb/\n",
      "https://www.zillow.com/homes/Burbank,-CA_rb/\n",
      "https://www.zillow.com/homes/Indianapolis,-IN_rb/\n",
      "https://www.zillow.com/homes/Fort-Worth,-TX_rb/\n",
      "https://www.zillow.com/homes/Sunnyvale,-CA_rb/\n",
      "https://www.zillow.com/homes/Mountain-View,-CA_rb/\n",
      "https://www.zillow.com/homes/Scottsdale,-AZ_rb/\n",
      "https://www.zillow.com/homes/Palo-Alto,-CA_rb/\n",
      "https://www.zillow.com/homes/Brooklyn,-NY_rb/\n",
      "https://www.zillow.com/homes/Cupertino,-CA_rb/\n",
      "https://www.zillow.com/homes/Hampton,-VA_rb/\n",
      "https://www.zillow.com/homes/Long-Beach,-CA_rb/\n",
      "https://www.zillow.com/homes/Redwood-City,-CA_rb/\n",
      "https://www.zillow.com/homes/Menlo-Park,-CA_rb/\n",
      "https://www.zillow.com/homes/Oakland,-CA_rb/\n",
      "https://www.zillow.com/homes/Redmond,-WA_rb/\n",
      "https://www.zillow.com/homes/Wilmington,-DE_rb/\n",
      "https://www.zillow.com/homes/Richardson,-TX_rb/\n",
      "https://www.zillow.com/homes/Centennial,-CO_rb/\n",
      "https://www.zillow.com/homes/Downers-Grove,-IL_rb/\n",
      "https://www.zillow.com/homes/Foster-City,-CA_rb/\n",
      "https://www.zillow.com/homes/Lake-Success,-NY_rb/\n",
      "https://www.zillow.com/homes/Santa-Monica,-CA_rb/\n",
      "https://www.zillow.com/homes/Arlington,-TX_rb/\n"
     ]
    }
   ],
   "source": [
    "web_list = ['https://www.zillow.com/homes/New-York,-NY_rb/',\n",
    "'https://www.zillow.com/homes/Chicago,-IL_rb/',\n",
    "'https://www.zillow.com/homes/San-Francisco,-CA_rb/',\n",
    "'https://www.zillow.com/homes/Austin,-TX_rb/',\n",
    "'https://www.zillow.com/homes/Los-Angeles,-CA_rb/',\n",
    "'https://www.zillow.com/homes/Charlotte,-NC_rb/',\n",
    "'https://www.zillow.com/homes/Houston,-TX_rb/',\n",
    "'https://www.zillow.com/homes/Dallas,-TX_rb/',\n",
    "'https://www.zillow.com/homes/San-Diego,-CA_rb/',\n",
    "'https://www.zillow.com/homes/Philadelphia,-PA_rb/',\n",
    "'https://www.zillow.com/homes/Denver,-CO_rb/',\n",
    "'https://www.zillow.com/homes/San-Antonio,-TX_rb/',\n",
    "'https://www.zillow.com/homes/San-Jose,-CA_rb/',\n",
    "'https://www.zillow.com/homes/Phoenix,-AZ_rb/',\n",
    "'https://www.zillow.com/homes/Jersey-City,-NJ_rb/',\n",
    "'https://www.zillow.com/homes/Tempe,-AZ_rb/',\n",
    "'https://www.zillow.com/homes/Seattle,-WA_rb/',\n",
    "'https://www.zillow.com/homes/Columbus,-OH_rb/',\n",
    "'https://www.zillow.com/homes/Irving,-TX_rb/',\n",
    "'https://www.zillow.com/homes/Plano,-TX_rb/',\n",
    "'https://www.zillow.com/homes/Salt-Lake-City,-UT_rb/',\n",
    "'https://www.zillow.com/homes/Santa-Clara,-CA_rb/',\n",
    "'https://www.zillow.com/homes/El-Segundo,-CA_rb/',\n",
    "'https://www.zillow.com/homes/Jacksonville,-FL_rb/',\n",
    "'https://www.zillow.com/homes/Norfolk,-VA_rb/',\n",
    "'https://www.zillow.com/homes/San-Mateo,-CA_rb/',\n",
    "'https://www.zillow.com/homes/Burbank,-CA_rb/',\n",
    "'https://www.zillow.com/homes/Indianapolis,-IN_rb/',\n",
    "'https://www.zillow.com/homes/Fort-Worth,-TX_rb/',\n",
    "'https://www.zillow.com/homes/Sunnyvale,-CA_rb/',\n",
    "'https://www.zillow.com/homes/Mountain-View,-CA_rb/',\n",
    "'https://www.zillow.com/homes/Scottsdale,-AZ_rb/',\n",
    "'https://www.zillow.com/homes/Palo-Alto,-CA_rb/',\n",
    "'https://www.zillow.com/homes/Brooklyn,-NY_rb/',\n",
    "'https://www.zillow.com/homes/Cupertino,-CA_rb/',\n",
    "'https://www.zillow.com/homes/Hampton,-VA_rb/',\n",
    "'https://www.zillow.com/homes/Long-Beach,-CA_rb/',\n",
    "'https://www.zillow.com/homes/Redwood-City,-CA_rb/',\n",
    "'https://www.zillow.com/homes/Menlo-Park,-CA_rb/',\n",
    "'https://www.zillow.com/homes/Oakland,-CA_rb/',\n",
    "'https://www.zillow.com/homes/Redmond,-WA_rb/',\n",
    "'https://www.zillow.com/homes/Wilmington,-DE_rb/',\n",
    "'https://www.zillow.com/homes/Richardson,-TX_rb/',\n",
    "'https://www.zillow.com/homes/Centennial,-CO_rb/',\n",
    "'https://www.zillow.com/homes/Downers-Grove,-IL_rb/',\n",
    "'https://www.zillow.com/homes/Foster-City,-CA_rb/',\n",
    "'https://www.zillow.com/homes/Lake-Success,-NY_rb/',\n",
    "'https://www.zillow.com/homes/Santa-Monica,-CA_rb/',\n",
    "'https://www.zillow.com/homes/Arlington,-TX_rb/']\n",
    "\n",
    "for item in web_list:\n",
    "    print(item)\n"
   ]
  },
  {
   "cell_type": "code",
   "execution_count": null,
   "metadata": {},
   "outputs": [],
   "source": [
    "for x in range(0, 50):\n",
    "    browser.visit(web_list[x])\n",
    "    city = str(x)\n",
    "    state = str(x)\n",
    "    html = browser.html\n",
    "    print(\"%\"*29)\n",
    "    print(type(html))\n",
    "    soup = BeautifulSoup(html, 'html.parser')\n",
    "\n",
    "    cardlist = soup.find_all('article', class_='list-card_not-saved')\n",
    "    print(\"@\"*17)\n",
    "    print(type(cardlist))\n",
    "    print(len(cardlist))\n",
    "\n",
    "    for card in cardlist:\n",
    "        address = card.find('address', class_='list-card-addr').text\n",
    "        print(\"*************7the address is\")\n",
    "        print(address)\n",
    "        info = card.find('ul', class_='list-card-details').text\n",
    "        print(\"*************8the info is\")\n",
    "        print(info)\n",
    "        try:\n",
    "            price = card.find('div', class_='list-card-price').text\n",
    "\n",
    "        except:\n",
    "            print(\"no price\")\n",
    "            price = \"\"\n",
    "        else:\n",
    "            print(\"$++++++++++++++++++++9\" +price)\n",
    "\n",
    "        item_df = item_df.append(pd.DataFrame({'address': [address], 'price': [price], 'info': [info], 'city': [city], 'state': [state]}))\n",
    "    sleep(5)"
   ]
  }
 ],
 "metadata": {
  "kernelspec": {
   "display_name": "Python 3",
   "language": "python",
   "name": "python3"
  },
  "language_info": {
   "codemirror_mode": {
    "name": "ipython",
    "version": 3
   },
   "file_extension": ".py",
   "mimetype": "text/x-python",
   "name": "python",
   "nbconvert_exporter": "python",
   "pygments_lexer": "ipython3",
   "version": "3.7.7"
  }
 },
 "nbformat": 4,
 "nbformat_minor": 4
}
