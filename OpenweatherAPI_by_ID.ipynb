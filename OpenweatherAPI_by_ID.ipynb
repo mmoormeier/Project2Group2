{
 "cells": [
  {
   "cell_type": "code",
   "execution_count": 1,
   "metadata": {},
   "outputs": [],
   "source": [
    "# Dependencies and Setup\n",
    "import matplotlib.pyplot as plt\n",
    "import json\n",
    "import pandas as pd\n",
    "import numpy as np\n",
    "import time\n",
    "from scipy.stats import linregress\n",
    "from datetime import datetime\n",
    "import re\n",
    "import gmaps\n",
    "import os\n",
    "import configparser\n",
    "import requests\n",
    "import sys"
   ]
  },
  {
   "cell_type": "code",
   "execution_count": 2,
   "metadata": {},
   "outputs": [],
   "source": [
    "api_key = \"3a9fa2731241e7ab03bbf05564b12ba4\"\n",
    "\n",
    "#state_names= [\"NY\", \"IL\", \"CA\", \"TX\", \"NC\", \"PA\", \"CO\", \"AZ\", \"NJ\", \"WA\", \"OH\", \"UT\", \"FL\", \"VA\", \"IN\", \"DE\"]\n",
    "\n",
    "#city_names=[\"New York\", \"Chicago\", \"San Francisco\", \"Austin\", \"Los Angeles\", \"Charlotte\", \"Houston\", \"Dallas\", \"San Diego\", \"Philadelphia\", \"Denver\", \"San Antonio\", \"San Jose\", \"Phoenix\", \"Jersey City\",\n",
    "#\"Tempe\", \"Seattle\", \"Columbus\", \"Irving\", \"Plano\", \"Salt Lake City\", \"Santa Clara\", \"El Segundo\", \"Jacksonville\", \"Norfolk\", \"San Mateo\", \"Burbank\", \"Indianapolis\", \"Fort Worth\", \"Sunnyvale\", \"Mountain View\",\n",
    "#\"Scottsdale\", \"Palo Alto\",\"Brooklyn\",\"Cupertino\", \"Hampton\", \"Long Beach\", \"Redwood City\", \"Menlo Park\", \"Oakland\", \"Redmond\", \"Wilmington\", \"Richardson\",\"Centennial\",\"Downers Grove\", \"Foster City\", \"Lake Success\",\n",
    "#\"Santa Monica\", \"Arlington\"]\n",
    "\n",
    "#url= \"https://api.openweathermap.org/data/2.5/weather?q=Austin,us&appid=3a9fa2731241e7ab03bbf05564b12ba4&units=metric\""
   ]
  },
  {
   "cell_type": "code",
   "execution_count": null,
   "metadata": {},
   "outputs": [],
   "source": []
  },
  {
   "cell_type": "code",
   "execution_count": null,
   "metadata": {},
   "outputs": [],
   "source": []
  },
  {
   "cell_type": "code",
   "execution_count": null,
   "metadata": {},
   "outputs": [],
   "source": []
  },
  {
   "cell_type": "code",
   "execution_count": null,
   "metadata": {},
   "outputs": [],
   "source": [
    "#url=\"https://api.openweathermap.org/data/2.5/group?id=5039192,4887398,5391959,4671654,5344994,4460243,4699066,4704482,4726311,5131095,5186794,4726206,5392171,5308655,5099836,5317058,5809844,4509177,4700168,4719457&appid=3a9fa2731241e7ab03bbf05564b12ba4&units=metric\""
   ]
  },
  {
   "cell_type": "code",
   "execution_count": null,
   "metadata": {},
   "outputs": [],
   "source": [
    "response = requests.get(url)\n",
    "data = json.loads(response.text)\n",
    "print(data)"
   ]
  },
  {
   "cell_type": "code",
   "execution_count": 5,
   "metadata": {},
   "outputs": [],
   "source": [
    "url=\"https://api.openweathermap.org/data/2.5/group?id=5780993,5393015,5345860,4160021,4776222,5392423,5331835,4259418,4691930,5400075,5375480,5313457,5380748,5110302,5341145,4762894,5367929,5386834,5372223,5378538&appid=3a9fa2731241e7ab03bbf05564b12ba4&units=metric\""
   ]
  },
  {
   "cell_type": "code",
   "execution_count": 6,
   "metadata": {},
   "outputs": [
    {
     "name": "stdout",
     "output_type": "stream",
     "text": [
      "{'cnt': 20, 'list': [{'coord': {'lon': -111.89, 'lat': 40.76}, 'sys': {'country': 'US', 'timezone': -21600, 'sunrise': 1596889891, 'sunset': 1596940488}, 'weather': [{'id': 803, 'main': 'Clouds', 'description': 'broken clouds', 'icon': '04d'}], 'main': {'temp': 33.3, 'feels_like': 27.24, 'temp_min': 32.22, 'temp_max': 35, 'pressure': 1016, 'humidity': 9}, 'visibility': 10000, 'wind': {'speed': 5.1, 'deg': 350}, 'clouds': {'all': 75}, 'dt': 1596932153, 'id': 5780993, 'name': 'Salt Lake City'}, {'coord': {'lon': -121.96, 'lat': 37.35}, 'sys': {'country': 'US', 'timezone': -25200, 'sunrise': 1596892722, 'sunset': 1596942489}, 'weather': [{'id': 801, 'main': 'Clouds', 'description': 'few clouds', 'icon': '02d'}], 'main': {'temp': 29.32, 'feels_like': 26.97, 'temp_min': 26.67, 'temp_max': 32.22, 'pressure': 1013, 'humidity': 42}, 'visibility': 10000, 'wind': {'speed': 5.7, 'deg': 310}, 'clouds': {'all': 20}, 'dt': 1596932146, 'id': 5393015, 'name': 'Santa Clara'}, {'coord': {'lon': -118.42, 'lat': 33.92}, 'sys': {'country': 'US', 'timezone': -25200, 'sunrise': 1596892248, 'sunset': 1596941264}, 'weather': [{'id': 801, 'main': 'Clouds', 'description': 'few clouds', 'icon': '02d'}], 'main': {'temp': 21.37, 'feels_like': 17.69, 'temp_min': 20, 'temp_max': 23.33, 'pressure': 1015, 'humidity': 64}, 'visibility': 10000, 'wind': {'speed': 7.2, 'deg': 260}, 'clouds': {'all': 20}, 'dt': 1596932145, 'id': 5345860, 'name': 'El Segundo'}, {'coord': {'lon': -81.66, 'lat': 30.33}, 'sys': {'country': 'US', 'timezone': -14400, 'sunrise': 1596883782, 'sunset': 1596932088}, 'weather': [{'id': 803, 'main': 'Clouds', 'description': 'broken clouds', 'icon': '04n'}], 'main': {'temp': 29.6, 'feels_like': 31.58, 'temp_min': 28.89, 'temp_max': 31, 'pressure': 1020, 'humidity': 70}, 'visibility': 10000, 'wind': {'speed': 5.1, 'deg': 180}, 'clouds': {'all': 75}, 'dt': 1596932093, 'id': 4160021, 'name': 'Jacksonville'}, {'coord': {'lon': -76.29, 'lat': 36.85}, 'sys': {'country': 'US', 'timezone': -14400, 'sunrise': 1596881812, 'sunset': 1596931480}, 'weather': [{'id': 800, 'main': 'Clear', 'description': 'clear sky', 'icon': '01n'}], 'main': {'temp': 24.82, 'feels_like': 27.81, 'temp_min': 23, 'temp_max': 26.11, 'pressure': 1020, 'humidity': 78}, 'visibility': 10000, 'wind': {'speed': 1.5, 'deg': 120}, 'clouds': {'all': 1}, 'dt': 1596932120, 'id': 4776222, 'name': 'Norfolk'}, {'coord': {'lon': -122.33, 'lat': 37.56}, 'sys': {'country': 'US', 'timezone': -25200, 'sunrise': 1596892787, 'sunset': 1596942602}, 'weather': [{'id': 801, 'main': 'Clouds', 'description': 'few clouds', 'icon': '02d'}], 'main': {'temp': 24.34, 'feels_like': 20.91, 'temp_min': 22, 'temp_max': 28.33, 'pressure': 1013, 'humidity': 56}, 'visibility': 10000, 'wind': {'speed': 7.2, 'deg': 320}, 'clouds': {'all': 20}, 'dt': 1596932146, 'id': 5392423, 'name': 'San Mateo'}, {'coord': {'lon': -118.31, 'lat': 34.18}, 'sys': {'country': 'US', 'timezone': -25200, 'sunrise': 1596892195, 'sunset': 1596941265}, 'weather': [{'id': 800, 'main': 'Clear', 'description': 'clear sky', 'icon': '01d'}], 'main': {'temp': 28.79, 'feels_like': 26.09, 'temp_min': 27.22, 'temp_max': 32, 'pressure': 1014, 'humidity': 32}, 'visibility': 10000, 'wind': {'speed': 4.1, 'deg': 180}, 'clouds': {'all': 1}, 'dt': 1596932145, 'id': 5331835, 'name': 'Burbank'}, {'coord': {'lon': -86.16, 'lat': 39.77}, 'sys': {'country': 'US', 'timezone': -14400, 'sunrise': 1596883836, 'sunset': 1596934193}, 'weather': [{'id': 800, 'main': 'Clear', 'description': 'clear sky', 'icon': '01d'}], 'main': {'temp': 27, 'feels_like': 27.58, 'temp_min': 25.56, 'temp_max': 28, 'pressure': 1020, 'humidity': 48}, 'visibility': 10000, 'wind': {'speed': 1.5, 'deg': 220}, 'clouds': {'all': 1}, 'dt': 1596932094, 'id': 4259418, 'name': 'Indianapolis'}, {'coord': {'lon': -97.32, 'lat': 32.73}, 'sys': {'country': 'US', 'timezone': -18000, 'sunrise': 1596887305, 'sunset': 1596936081}, 'weather': [{'id': 800, 'main': 'Clear', 'description': 'clear sky', 'icon': '01d'}], 'main': {'temp': 35.31, 'feels_like': 32.66, 'temp_min': 33.89, 'temp_max': 36.67, 'pressure': 1016, 'humidity': 34}, 'visibility': 10000, 'wind': {'speed': 7.2, 'deg': 150}, 'clouds': {'all': 1}, 'dt': 1596932119, 'id': 4691930, 'name': 'Fort Worth'}, {'coord': {'lon': -122.04, 'lat': 37.37}, 'sys': {'country': 'US', 'timezone': -25200, 'sunrise': 1596892739, 'sunset': 1596942511}, 'weather': [{'id': 801, 'main': 'Clouds', 'description': 'few clouds', 'icon': '02d'}], 'main': {'temp': 28.73, 'feels_like': 26.19, 'temp_min': 25.56, 'temp_max': 31.11, 'pressure': 1013, 'humidity': 42}, 'visibility': 10000, 'wind': {'speed': 5.7, 'deg': 310}, 'clouds': {'all': 20}, 'dt': 1596932146, 'id': 5400075, 'name': 'Sunnyvale'}, {'coord': {'lon': -122.08, 'lat': 37.39}, 'sys': {'country': 'US', 'timezone': -25200, 'sunrise': 1596892747, 'sunset': 1596942523}, 'weather': [{'id': 801, 'main': 'Clouds', 'description': 'few clouds', 'icon': '02d'}], 'main': {'temp': 28.44, 'feels_like': 25.81, 'temp_min': 25, 'temp_max': 31.11, 'pressure': 1013, 'humidity': 42}, 'visibility': 10000, 'wind': {'speed': 5.7, 'deg': 310}, 'clouds': {'all': 20}, 'dt': 1596932146, 'id': 5375480, 'name': 'Mountain View'}, {'coord': {'lon': -111.9, 'lat': 33.51}, 'sys': {'country': 'US', 'timezone': -25200, 'sunrise': 1596890726, 'sunset': 1596939658}, 'weather': [{'id': 800, 'main': 'Clear', 'description': 'clear sky', 'icon': '01d'}], 'main': {'temp': 42.56, 'feels_like': 38.67, 'temp_min': 41.11, 'temp_max': 43.89, 'pressure': 1010, 'humidity': 12}, 'visibility': 10000, 'wind': {'speed': 4.6, 'deg': 240}, 'clouds': {'all': 1}, 'dt': 1596932145, 'id': 5313457, 'name': 'Scottsdale'}, {'coord': {'lon': -122.14, 'lat': 37.44}, 'sys': {'country': 'US', 'timezone': -25200, 'sunrise': 1596892755, 'sunset': 1596942543}, 'weather': [{'id': 800, 'main': 'Clear', 'description': 'clear sky', 'icon': '01d'}], 'main': {'temp': 26.84, 'feels_like': 25.82, 'temp_min': 23.33, 'temp_max': 30.56, 'pressure': 1014, 'humidity': 60}, 'visibility': 10000, 'wind': {'speed': 5.7, 'deg': 360}, 'clouds': {'all': 5}, 'dt': 1596932146, 'id': 5380748, 'name': 'Palo Alto'}, {'coord': {'lon': -73.95, 'lat': 40.65}, 'sys': {'country': 'US', 'timezone': -14400, 'sunrise': 1596880793, 'sunset': 1596931376}, 'weather': [{'id': 802, 'main': 'Clouds', 'description': 'scattered clouds', 'icon': '03n'}], 'main': {'temp': 23.87, 'feels_like': 26.42, 'temp_min': 22.78, 'temp_max': 26, 'pressure': 1020, 'humidity': 78}, 'visibility': 10000, 'wind': {'speed': 1.5, 'deg': 0}, 'clouds': {'all': 27}, 'dt': 1596932132, 'id': 5110302, 'name': 'Brooklyn'}, {'coord': {'lon': -122.03, 'lat': 37.32}, 'sys': {'country': 'US', 'timezone': -25200, 'sunrise': 1596892743, 'sunset': 1596942503}, 'weather': [{'id': 801, 'main': 'Clouds', 'description': 'few clouds', 'icon': '02d'}], 'main': {'temp': 29.21, 'feels_like': 26.82, 'temp_min': 26.67, 'temp_max': 32.22, 'pressure': 1013, 'humidity': 42}, 'visibility': 10000, 'wind': {'speed': 5.7, 'deg': 310}, 'clouds': {'all': 20}, 'dt': 1596932145, 'id': 5341145, 'name': 'Cupertino'}, {'coord': {'lon': -76.35, 'lat': 37.03}, 'sys': {'country': 'US', 'timezone': -14400, 'sunrise': 1596881806, 'sunset': 1596931515}, 'weather': [{'id': 800, 'main': 'Clear', 'description': 'clear sky', 'icon': '01n'}], 'main': {'temp': 25.75, 'feels_like': 28.82, 'temp_min': 24.44, 'temp_max': 27.22, 'pressure': 1020, 'humidity': 88}, 'visibility': 10000, 'wind': {'speed': 3.6, 'deg': 130}, 'clouds': {'all': 1}, 'dt': 1596932120, 'id': 4762894, 'name': 'Hampton'}, {'coord': {'lon': -118.19, 'lat': 33.77}, 'sys': {'country': 'US', 'timezone': -25200, 'sunrise': 1596892209, 'sunset': 1596941194}, 'weather': [{'id': 800, 'main': 'Clear', 'description': 'clear sky', 'icon': '01d'}], 'main': {'temp': 22.54, 'feels_like': 19.05, 'temp_min': 20.56, 'temp_max': 26.11, 'pressure': 1014, 'humidity': 50}, 'visibility': 10000, 'wind': {'speed': 5.7, 'deg': 280}, 'clouds': {'all': 1}, 'dt': 1596932145, 'id': 5367929, 'name': 'Long Beach'}, {'coord': {'lon': -122.24, 'lat': 37.49}, 'sys': {'country': 'US', 'timezone': -25200, 'sunrise': 1596892774, 'sunset': 1596942573}, 'weather': [{'id': 800, 'main': 'Clear', 'description': 'clear sky', 'icon': '01d'}], 'main': {'temp': 24.99, 'feels_like': 24.25, 'temp_min': 22, 'temp_max': 28.33, 'pressure': 1014, 'humidity': 73}, 'visibility': 10000, 'wind': {'speed': 6.2, 'deg': 360}, 'clouds': {'all': 5}, 'dt': 1596932146, 'id': 5386834, 'name': 'Redwood City'}, {'coord': {'lon': -122.18, 'lat': 37.45}, 'sys': {'country': 'US', 'timezone': -25200, 'sunrise': 1596892764, 'sunset': 1596942554}, 'weather': [{'id': 800, 'main': 'Clear', 'description': 'clear sky', 'icon': '01d'}], 'main': {'temp': 26.1, 'feels_like': 24.78, 'temp_min': 22, 'temp_max': 30, 'pressure': 1014, 'humidity': 60}, 'visibility': 10000, 'wind': {'speed': 5.7, 'deg': 360}, 'clouds': {'all': 5}, 'dt': 1596932146, 'id': 5372223, 'name': 'Menlo Park'}, {'coord': {'lon': -122.27, 'lat': 37.8}, 'sys': {'country': 'US', 'timezone': -25200, 'sunrise': 1596892745, 'sunset': 1596942616}, 'weather': [{'id': 801, 'main': 'Clouds', 'description': 'few clouds', 'icon': '02d'}], 'main': {'temp': 18.67, 'feels_like': 13.95, 'temp_min': 15.56, 'temp_max': 22, 'pressure': 1014, 'humidity': 56}, 'visibility': 10000, 'wind': {'speed': 6.7, 'deg': 320}, 'clouds': {'all': 20}, 'dt': 1596932146, 'id': 5378538, 'name': 'Oakland'}]}\n"
     ]
    }
   ],
   "source": [
    "response = requests.get(url)\n",
    "data = json.loads(response.text)\n",
    "print(data)"
   ]
  },
  {
   "cell_type": "code",
   "execution_count": 7,
   "metadata": {},
   "outputs": [],
   "source": [
    "url=\"https://api.openweathermap.org/data/2.5/group?id=5808079,4499379,4722625,5416541,4890119,5350159,5123853,5393212,4671240&appid=3a9fa2731241e7ab03bbf05564b12ba4&units=metric\""
   ]
  },
  {
   "cell_type": "code",
   "execution_count": 8,
   "metadata": {},
   "outputs": [
    {
     "name": "stdout",
     "output_type": "stream",
     "text": [
      "{'cnt': 9, 'list': [{'coord': {'lon': -122.12, 'lat': 47.67}, 'sys': {'country': 'US', 'timezone': -25200, 'sunrise': 1596891342, 'sunset': 1596943947}, 'weather': [{'id': 804, 'main': 'Clouds', 'description': 'overcast clouds', 'icon': '04d'}], 'main': {'temp': 19.31, 'feels_like': 19.35, 'temp_min': 18.33, 'temp_max': 20.56, 'pressure': 1022, 'humidity': 82}, 'visibility': 10000, 'wind': {'speed': 2.87, 'deg': 326}, 'clouds': {'all': 88}, 'dt': 1596932153, 'id': 5808079, 'name': 'Redmond'}, {'coord': {'lon': -77.94, 'lat': 34.23}, 'sys': {'country': 'US', 'timezone': -14400, 'sunrise': 1596882496, 'sunset': 1596931588}, 'weather': [{'id': 800, 'main': 'Clear', 'description': 'clear sky', 'icon': '01n'}], 'main': {'temp': 28.07, 'feels_like': 30.14, 'temp_min': 27.22, 'temp_max': 30, 'pressure': 1019, 'humidity': 66}, 'visibility': 10000, 'wind': {'speed': 3.1, 'deg': 200}, 'clouds': {'all': 1}, 'dt': 1596932101, 'id': 4499379, 'name': 'Wilmington'}, {'coord': {'lon': -96.73, 'lat': 32.95}, 'sys': {'country': 'US', 'timezone': -18000, 'sunrise': 1596887141, 'sunset': 1596935962}, 'weather': [{'id': 800, 'main': 'Clear', 'description': 'clear sky', 'icon': '01d'}], 'main': {'temp': 34.82, 'feels_like': 32.69, 'temp_min': 33.89, 'temp_max': 36.11, 'pressure': 1016, 'humidity': 32}, 'visibility': 10000, 'wind': {'speed': 5.7, 'deg': 170}, 'clouds': {'all': 5}, 'dt': 1596932119, 'id': 4722625, 'name': 'Richardson'}, {'coord': {'lon': -104.88, 'lat': 39.58}, 'sys': {'country': 'US', 'timezone': -21600, 'sunrise': 1596888355, 'sunset': 1596938659}, 'weather': [{'id': 802, 'main': 'Clouds', 'description': 'scattered clouds', 'icon': '03d'}], 'main': {'temp': 32.54, 'feels_like': 26.42, 'temp_min': 30, 'temp_max': 35, 'pressure': 1020, 'humidity': 9}, 'visibility': 10000, 'wind': {'speed': 5.1, 'deg': 170}, 'clouds': {'all': 40}, 'dt': 1596932146, 'id': 5416541, 'name': 'Centennial'}, {'coord': {'lon': -88.01, 'lat': 41.81}, 'sys': {'country': 'US', 'timezone': -18000, 'sunrise': 1596884018, 'sunset': 1596934899}, 'weather': [{'id': 801, 'main': 'Clouds', 'description': 'few clouds', 'icon': '02d'}], 'main': {'temp': 28.18, 'feels_like': 31.1, 'temp_min': 27.78, 'temp_max': 28.89, 'pressure': 1017, 'humidity': 70}, 'visibility': 10000, 'wind': {'speed': 2.68, 'deg': 207}, 'clouds': {'all': 23}, 'dt': 1596932125, 'id': 4890119, 'name': 'Downers Grove'}, {'coord': {'lon': -122.27, 'lat': 37.56}, 'sys': {'country': 'US', 'timezone': -25200, 'sunrise': 1596892773, 'sunset': 1596942588}, 'weather': [{'id': 800, 'main': 'Clear', 'description': 'clear sky', 'icon': '01d'}], 'main': {'temp': 24.52, 'feels_like': 23.57, 'temp_min': 22, 'temp_max': 27.78, 'pressure': 1014, 'humidity': 73}, 'visibility': 10000, 'wind': {'speed': 6.2, 'deg': 360}, 'clouds': {'all': 5}, 'dt': 1596932145, 'id': 5350159, 'name': 'Foster City'}, {'coord': {'lon': -73.72, 'lat': 40.77}, 'sys': {'country': 'US', 'timezone': -14400, 'sunrise': 1596880722, 'sunset': 1596931336}, 'weather': [{'id': 802, 'main': 'Clouds', 'description': 'scattered clouds', 'icon': '03n'}], 'main': {'temp': 23.45, 'feels_like': 24.81, 'temp_min': 22.78, 'temp_max': 25, 'pressure': 1020, 'humidity': 83}, 'visibility': 10000, 'wind': {'speed': 3.6, 'deg': 150}, 'clouds': {'all': 40}, 'dt': 1596932133, 'id': 5123853, 'name': 'Lake Success'}, {'coord': {'lon': -118.49, 'lat': 34.02}, 'sys': {'country': 'US', 'timezone': -25200, 'sunrise': 1596892255, 'sunset': 1596941292}, 'weather': [{'id': 800, 'main': 'Clear', 'description': 'clear sky', 'icon': '01d'}], 'main': {'temp': 21.27, 'feels_like': 20.06, 'temp_min': 20, 'temp_max': 23.33, 'pressure': 1014, 'humidity': 68}, 'visibility': 10000, 'wind': {'speed': 4.1, 'deg': 240}, 'clouds': {'all': 1}, 'dt': 1596932146, 'id': 5393212, 'name': 'Santa Monica'}, {'coord': {'lon': -97.11, 'lat': 32.74}, 'sys': {'country': 'US', 'timezone': -18000, 'sunrise': 1596887253, 'sunset': 1596936032}, 'weather': [{'id': 800, 'main': 'Clear', 'description': 'clear sky', 'icon': '01d'}], 'main': {'temp': 35.24, 'feels_like': 33.29, 'temp_min': 34.44, 'temp_max': 36.67, 'pressure': 1017, 'humidity': 30}, 'visibility': 10000, 'wind': {'speed': 5.1, 'deg': 130}, 'clouds': {'all': 5}, 'dt': 1596932113, 'id': 4671240, 'name': 'Arlington'}]}\n"
     ]
    }
   ],
   "source": [
    "response = requests.get(url)\n",
    "data = json.loads(response.text)\n",
    "print(data)"
   ]
  }
 ],
 "metadata": {
  "kernelspec": {
   "display_name": "Python 3",
   "language": "python",
   "name": "python3"
  },
  "language_info": {
   "codemirror_mode": {
    "name": "ipython",
    "version": 3
   },
   "file_extension": ".py",
   "mimetype": "text/x-python",
   "name": "python",
   "nbconvert_exporter": "python",
   "pygments_lexer": "ipython3",
   "version": "3.7.7"
  }
 },
 "nbformat": 4,
 "nbformat_minor": 4
}
